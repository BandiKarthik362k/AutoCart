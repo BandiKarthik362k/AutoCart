{
 "cells": [
  {
   "cell_type": "code",
   "execution_count": 6,
   "id": "3bedf5d7",
   "metadata": {},
   "outputs": [],
   "source": [
    "import cv2 \n",
    "from ultralytics import YOLO\n",
    "from torchvision.ops import box_iou\n",
    "import time"
   ]
  },
  {
   "cell_type": "code",
   "execution_count": null,
   "id": "cc46a483",
   "metadata": {},
   "outputs": [],
   "source": [
    "detect = YOLO(\"../Model/FineTune/runs/detect/train17/weights/best.pt\", task='track')\n",
    "\n",
    "cap = cv2.VideoCapture(0)\n",
    "\n",
    "\n",
    "cv2.namedWindow('Live', cv2.WINDOW_NORMAL)\n",
    "\n",
    "while True:\n",
    "\n",
    "    a, frames = cap.read()\n",
    "\n",
    "    if not a:\n",
    "        break\n",
    "\n",
    "    result = detect.predict(source=frames, show=False, conf=0.4,  max_det=25, nms=True,iou=0.4, agnostic_nms=False, imgsz=1408, augment=True, tracker=\"botsort.yaml\")\n",
    "                            \n",
    "    annoted = result[0].plot()\n",
    "\n",
    "    cv2.imshow('Live', annoted)\n",
    "\n",
    "    if cv2.waitKey(1) & cv2.waitKey(1) & 0xFF == ord('q'):\n",
    "        break\n",
    "\n",
    "cap.release()\n",
    "cv2.destroyAllWindows()"
   ]
  },
  {
   "cell_type": "code",
   "execution_count": null,
   "id": "c3d21561",
   "metadata": {},
   "outputs": [],
   "source": []
  }
 ],
 "metadata": {
  "kernelspec": {
   "display_name": "Python 3",
   "language": "python",
   "name": "python3"
  },
  "language_info": {
   "codemirror_mode": {
    "name": "ipython",
    "version": 3
   },
   "file_extension": ".py",
   "mimetype": "text/x-python",
   "name": "python",
   "nbconvert_exporter": "python",
   "pygments_lexer": "ipython3",
   "version": "3.12.10"
  }
 },
 "nbformat": 4,
 "nbformat_minor": 5
}
