{
 "cells": [
  {
   "cell_type": "code",
   "execution_count": 11,
   "id": "b9b2c14f",
   "metadata": {},
   "outputs": [],
   "source": [
    "import torch \n",
    "import torch.nn as nn \n",
    "from torchvision import transforms as tf\n",
    "from torchvision import datasets\n",
    "from  torch.utils.data import DataLoader\n",
    "import matplotlib.pyplot as plt\n",
    "import cv2\n",
    "import  numpy as np"
   ]
  },
  {
   "cell_type": "code",
   "execution_count": 21,
   "id": "895ce272",
   "metadata": {},
   "outputs": [],
   "source": [
    "trnsf = tf.Compose([tf.Resize((500,500)),tf.RandomRotation(30),\n",
    "                          tf.RandomCrop(450),\n",
    "                          tf.RandomVerticalFlip(0.3),\n",
    "                          tf.RandomHorizontalFlip(0.3),\n",
    "                          tf.ToTensor()])"
   ]
  },
  {
   "cell_type": "code",
   "execution_count": 22,
   "id": "5c021330",
   "metadata": {},
   "outputs": [],
   "source": [
    "images = datasets.ImageFolder('E:/Projects/shop/data/train_images/',transform=trnsf)\n"
   ]
  },
  {
   "cell_type": "code",
   "execution_count": 23,
   "id": "77da3769",
   "metadata": {},
   "outputs": [],
   "source": [
    "data = DataLoader(images,batch_size=len(images),shuffle=False)"
   ]
  },
  {
   "cell_type": "code",
   "execution_count": 24,
   "id": "bee6a7c5",
   "metadata": {},
   "outputs": [],
   "source": [
    "name = 0\n",
    "for img_batch, cls_batch in data:\n",
    "    for i in range(len(img_batch)):\n",
    "        cur_img = img_batch[i]\n",
    "        cur_img = cur_img.permute(1, 2, 0).numpy() * 255\n",
    "        cur_img = cur_img.astype(np.uint8)\n",
    "        cur_img = cv2.cvtColor(cur_img, cv2.COLOR_RGB2BGR)\n",
    "        cv2.imwrite(f'E:/Projects/shop/data/augmented data/{name}.jpeg', cur_img)\n",
    "        name += 1\n"
   ]
  },
  {
   "cell_type": "code",
   "execution_count": null,
   "id": "6b2a0fbc",
   "metadata": {},
   "outputs": [],
   "source": []
  }
 ],
 "metadata": {
  "kernelspec": {
   "display_name": "Python 3",
   "language": "python",
   "name": "python3"
  },
  "language_info": {
   "codemirror_mode": {
    "name": "ipython",
    "version": 3
   },
   "file_extension": ".py",
   "mimetype": "text/x-python",
   "name": "python",
   "nbconvert_exporter": "python",
   "pygments_lexer": "ipython3",
   "version": "3.12.10"
  }
 },
 "nbformat": 4,
 "nbformat_minor": 5
}
